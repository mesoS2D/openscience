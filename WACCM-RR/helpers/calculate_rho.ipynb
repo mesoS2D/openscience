{
 "cells": [
  {
   "cell_type": "markdown",
   "id": "d01bad0a-1ca8-4f73-a254-5376dd2d58ce",
   "metadata": {},
   "source": [
    "# Load modules"
   ]
  },
  {
   "cell_type": "code",
   "execution_count": 1,
   "id": "496b0eaa-5b49-4992-9712-2b684ae1a148",
   "metadata": {},
   "outputs": [],
   "source": [
    "import xarray as xr\n",
    "#import numpy as np\n"
   ]
  },
  {
   "cell_type": "markdown",
   "id": "842e7ef0-9ab6-4e52-8dc0-43982ed99c97",
   "metadata": {},
   "source": [
    "# Define functions"
   ]
  },
  {
   "cell_type": "code",
   "execution_count": 2,
   "id": "9aedd85b-b673-4f72-9646-5df6844923e3",
   "metadata": {},
   "outputs": [],
   "source": [
    "def derive_n(ds_T): # Derive atmospheric number density - particles cm^-3 (take care with units!)\n",
    "\n",
    "    ds_n = xr.Dataset()\n",
    "    \n",
    "    # Conversion constants\n",
    "    k = 1.380649e-23            # Boltzmann constant J K^-1 = kg m^2 s^-2 K^-1\n",
    "    to_cm3 = 1e6                # convertion from m^3 to cm^3\n",
    "    to_Pa = 100                 # convert from hPa to Pa. Pa = kg m^-1 s^-2\n",
    "    \n",
    "    ds_n['n'] = ds_T['lev']*to_Pa/(to_cm3*k*ds_T) \n",
    "    # Units: kg m^-1 s^-2 * kg^-1 m^-2 s^2 K * K^-1 = m^-3 | m^-3 * 1e-6 = cm^-3\n",
    "    \n",
    "    return ds_n"
   ]
  },
  {
   "cell_type": "markdown",
   "id": "385d26eb-862b-478c-8a0a-20ba8ef0f948",
   "metadata": {},
   "source": [
    "# Define options"
   ]
  },
  {
   "cell_type": "code",
   "execution_count": 6,
   "id": "49bb4ec7-02fc-43e7-ad10-e75fa8d16f8c",
   "metadata": {},
   "outputs": [],
   "source": [
    "\n",
    "path_in = '../data/processed_data/monthly_domain_average/'      # Path to data on_lev\n",
    "path_out = '../data/processed_data/monthly_domain_average/'     # Output path to save data to - shouldn't be the same as input, or that will overwrite files, I assume?\n",
    "file_type = 'nonrr'                                     # 'nonrr' or 'rr'\n",
    "location = 'cm'                                         # 'cm' for CONUS\n",
    "time_region = 'night'                                   # 'night' or 'diur'\n",
    "\n",
    "variables_for_n = ['O','O3']                            # diurnal:['O','NO','CO2','CO','H2O'] # Night:['O','O3']\n",
    "\n",
    "\n",
    "#Quick sense check of time region of data:\n",
    "\n",
    "for var in variables_for_n:\n",
    "    if time_region == 'night' and var in ['NO','CO2','CO','H2O']:\n",
    "        print(f'{var} requires diurnal averaging!')\n",
    "    elif time_region == 'diur' and var == 'O3':\n",
    "        print(f'{var} should use night-time averaging!')"
   ]
  },
  {
   "cell_type": "markdown",
   "id": "1562ae55-7d2a-4dad-bc8d-b6c65e4d0efd",
   "metadata": {},
   "source": [
    "# Convert to number density"
   ]
  },
  {
   "cell_type": "code",
   "execution_count": 7,
   "id": "899dcb05-ed97-4d25-ac96-bd48de717a65",
   "metadata": {},
   "outputs": [
    {
     "ename": "OSError",
     "evalue": "no files to open",
     "output_type": "error",
     "traceback": [
      "\u001b[1;31m---------------------------------------------------------------------------\u001b[0m",
      "\u001b[1;31mOSError\u001b[0m                                   Traceback (most recent call last)",
      "\u001b[1;32m~\\AppData\\Local\\Temp\\ipykernel_51292\\465971679.py\u001b[0m in \u001b[0;36m<module>\u001b[1;34m\u001b[0m\n\u001b[0;32m      2\u001b[0m \u001b[1;33m\u001b[0m\u001b[0m\n\u001b[0;32m      3\u001b[0m \u001b[0mfilestr\u001b[0m\u001b[1;33m=\u001b[0m \u001b[1;34mf'{file_type}_{time_region}_{location}'\u001b[0m\u001b[1;33m\u001b[0m\u001b[1;33m\u001b[0m\u001b[0m\n\u001b[1;32m----> 4\u001b[1;33m \u001b[0mds_in\u001b[0m \u001b[1;33m=\u001b[0m \u001b[0mxr\u001b[0m\u001b[1;33m.\u001b[0m\u001b[0mopen_mfdataset\u001b[0m\u001b[1;33m(\u001b[0m\u001b[0mpath\u001b[0m\u001b[1;33m+\u001b[0m \u001b[1;34mf'{filestr}*'\u001b[0m\u001b[1;33m)\u001b[0m\u001b[1;33m\u001b[0m\u001b[1;33m\u001b[0m\u001b[0m\n\u001b[0m",
      "\u001b[1;32m~\\anaconda3\\lib\\site-packages\\xarray\\backends\\api.py\u001b[0m in \u001b[0;36mopen_mfdataset\u001b[1;34m(paths, chunks, concat_dim, compat, preprocess, engine, data_vars, coords, combine, parallel, join, attrs_file, combine_attrs, **kwargs)\u001b[0m\n\u001b[0;32m    871\u001b[0m \u001b[1;33m\u001b[0m\u001b[0m\n\u001b[0;32m    872\u001b[0m     \u001b[1;32mif\u001b[0m \u001b[1;32mnot\u001b[0m \u001b[0mpaths\u001b[0m\u001b[1;33m:\u001b[0m\u001b[1;33m\u001b[0m\u001b[1;33m\u001b[0m\u001b[0m\n\u001b[1;32m--> 873\u001b[1;33m         \u001b[1;32mraise\u001b[0m \u001b[0mOSError\u001b[0m\u001b[1;33m(\u001b[0m\u001b[1;34m\"no files to open\"\u001b[0m\u001b[1;33m)\u001b[0m\u001b[1;33m\u001b[0m\u001b[1;33m\u001b[0m\u001b[0m\n\u001b[0m\u001b[0;32m    874\u001b[0m \u001b[1;33m\u001b[0m\u001b[0m\n\u001b[0;32m    875\u001b[0m     \u001b[1;32mif\u001b[0m \u001b[0mcombine\u001b[0m \u001b[1;33m==\u001b[0m \u001b[1;34m\"nested\"\u001b[0m\u001b[1;33m:\u001b[0m\u001b[1;33m\u001b[0m\u001b[1;33m\u001b[0m\u001b[0m\n",
      "\u001b[1;31mOSError\u001b[0m: no files to open"
     ]
    }
   ],
   "source": [
    "# Read in file(s) to ds_on_lev\n",
    "\n",
    "filestr= f'{file_type}_{time_region}_{location}'\n",
    "ds_on_lev = xr.open_mfdataset(path_in+ f'{filestr}*')\n",
    "\n",
    "\n",
    "# Calculate var_n and add into ds_on_lev\n",
    "\n",
    "for var in variables_for_n:\n",
    "    ds_on_lev[f'{var}_n'] = ds_in[var]*derive_n(ds_in['T'])['n']\n",
    "    \n",
    "# Save dataset out\n",
    "\n",
    "ds_on_lev.to_netcdf(f'{path_out}{filestr}_2010.nc')\n",
    "ds_on_lev.close()"
   ]
  },
  {
   "cell_type": "code",
   "execution_count": null,
   "id": "a3663b37-7140-4991-a45c-ce632b350ad5",
   "metadata": {},
   "outputs": [],
   "source": []
  }
 ],
 "metadata": {
  "kernelspec": {
   "display_name": "Python 3 (ipykernel)",
   "language": "python",
   "name": "python3"
  },
  "language_info": {
   "codemirror_mode": {
    "name": "ipython",
    "version": 3
   },
   "file_extension": ".py",
   "mimetype": "text/x-python",
   "name": "python",
   "nbconvert_exporter": "python",
   "pygments_lexer": "ipython3",
   "version": "3.12.3"
  }
 },
 "nbformat": 4,
 "nbformat_minor": 5
}
