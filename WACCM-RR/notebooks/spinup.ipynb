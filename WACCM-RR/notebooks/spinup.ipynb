{
 "cells": [
  {
   "cell_type": "code",
   "execution_count": 8,
   "metadata": {},
   "outputs": [
    {
     "name": "stdout",
     "output_type": "stream",
     "text": [
      "se_nu=7.81e-08\n",
      "se_nu_p=7.81e-08\n",
      "se_nu_div=1.95e-07\n",
      "se_nsplit=8\n",
      "se_rsplit=4\n",
      "se_hypervis_subcycle=2\n",
      "se_hypervis_subcycle_q=1\n",
      "se_hypervis_subcycle_sponge=2\n"
     ]
    }
   ],
   "source": [
    "# Calculate timestep and hyperviscosity parameters given some defaults and scaling factors V and N\n",
    "# Print it out in a way that can be directly copied into user_nl_cam\n",
    "import numpy as np\n",
    "\n",
    "def calculate_scalings(nu_tensor, nu_tensor_p, nu_tensor_div, V, N):\n",
    "\n",
    "    # Default values\n",
    "    se_hypervis_subcycle = 2\n",
    "    se_hypervis_subcycle_q = 1\n",
    "    se_hypervis_subcycle_sponge = 2\n",
    "    se_nsplit = 2\n",
    "    se_rsplit = 1\n",
    "    \n",
    "    # Calculations\n",
    "    se_nu = V * nu_tensor\n",
    "    se_nu_p = V * nu_tensor_p\n",
    "    se_nu_div = V * nu_tensor_div\n",
    "\n",
    "    se_nsplit = N * se_nsplit\n",
    "    se_rsplit = N * se_rsplit\n",
    "    scaled_se_hypervis_subcycle = np.ceil(V / N) * se_hypervis_subcycle\n",
    "    scaled_se_hypervis_subcycle_q = np.ceil(V / N) * se_hypervis_subcycle_q\n",
    "    scaled_se_hypervis_subcycle_sponge = np.ceil(1 / N) * se_hypervis_subcycle_sponge\n",
    "\n",
    "    # Results\n",
    "    results = {\n",
    "        \"se_nu\": se_nu,\n",
    "        \"se_nu_p\": se_nu_p,\n",
    "        \"se_nu_div\": se_nu_div,\n",
    "        \"se_nsplit\": np.ceil(se_nsplit),\n",
    "        \"se_rsplit\": np.ceil(se_rsplit),\n",
    "        \"se_hypervis_subcycle\": int(scaled_se_hypervis_subcycle),\n",
    "        \"se_hypervis_subcycle_q\": int(scaled_se_hypervis_subcycle_q),\n",
    "        \"se_hypervis_subcycle_sponge\": int(scaled_se_hypervis_subcycle_sponge)\n",
    "    }\n",
    "    return results\n",
    "\n",
    "# Input values and scaling parameters for calculations\n",
    "example_results = calculate_scalings(\n",
    "    nu_tensor_p=0.781E-07,\n",
    "    nu_tensor=0.781E-07,\n",
    "    nu_tensor_div=0.195E-06,\n",
    "    V=1,\n",
    "    N=4\n",
    ")\n",
    "\n",
    "# Print results\n",
    "for result in example_results:\n",
    "    print(f'{result}={example_results[result]}')\n"
   ]
  }
 ],
 "metadata": {
  "kernelspec": {
   "display_name": "analysis",
   "language": "python",
   "name": "python3"
  },
  "language_info": {
   "codemirror_mode": {
    "name": "ipython",
    "version": 3
   },
   "file_extension": ".py",
   "mimetype": "text/x-python",
   "name": "python",
   "nbconvert_exporter": "python",
   "pygments_lexer": "ipython3",
   "version": "3.12.6"
  }
 },
 "nbformat": 4,
 "nbformat_minor": 2
}
